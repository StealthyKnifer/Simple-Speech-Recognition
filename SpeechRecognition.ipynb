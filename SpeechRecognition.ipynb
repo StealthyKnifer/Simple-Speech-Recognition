{
 "cells": [
  {
   "cell_type": "code",
   "execution_count": 39,
   "metadata": {},
   "outputs": [],
   "source": [
    "#IMPORTING ALL REQUIRED LIBRARIES\n",
    "import os\n",
    "import speech_recognition as sr\n",
    "from selenium import webdriver\n",
    "import webbrowser\n",
    "from playsound import playsound\n",
    "from googlesearch import search\n",
    "from tkinter import *\n",
    "import time\n",
    "from selenium import webdriver\n",
    "from selenium.webdriver.support.ui import WebDriverWait\n",
    "from selenium.webdriver.support import expected_conditions as EC\n",
    "from selenium.webdriver.common.keys import Keys\n",
    "from selenium.webdriver.common.by import By\n",
    "import urllib.request\n",
    "import random"
   ]
  },
  {
   "cell_type": "code",
   "execution_count": 40,
   "metadata": {},
   "outputs": [],
   "source": [
    "recognizer = sr.Recognizer()\n",
    "microphone = sr.Microphone(device_index=2)\n",
    "first_run = True\n",
    "festival = None\n",
    "contact = None"
   ]
  },
  {
   "cell_type": "code",
   "execution_count": 46,
   "metadata": {},
   "outputs": [],
   "source": [
    "def recordSpeech(returnVal=False):\n",
    "    global recognizer\n",
    "    global microphone\n",
    "    global first_run\n",
    "    if(first_run):\n",
    "        playsound(\"data/joanna/firstRun.mp3\")\n",
    "        with microphone as source:\n",
    "            recognizer.adjust_for_ambient_noise(source)\n",
    "        playsound(\"data/joanna/firstRunC.mp3\")\n",
    "        first_run = False\n",
    "    with microphone as source:\n",
    "        if not(returnVal):\n",
    "            playsound(\"data/joanna/helpYou.mp3\")\n",
    "        recognizer.adjust_for_ambient_noise(source)\n",
    "        audio = recognizer.listen(source)\n",
    "    try:\n",
    "        recogText = recognizer.recognize_google(audio)\n",
    "        if returnVal:\n",
    "            return recogText.lower()\n",
    "        else:\n",
    "            goAhead(recogText.lower()) \n",
    "            \n",
    "    except Exception as e:\n",
    "        print(e)\n",
    "        playsound(\"data/joanna/couldNRe.mp3\")"
   ]
  },
  {
   "cell_type": "code",
   "execution_count": 47,
   "metadata": {},
   "outputs": [],
   "source": [
    "def goAhead(recogText):\n",
    "    #CONVERTING SPEECH TO TEXT AND SAVING IT\n",
    "    if \"speech to text\" in recogText.lower():\n",
    "        playsound(\"data/joanna/speechTT.mp3\")\n",
    "        speech = recordSpeech(True)\n",
    "        f = open(\"RecognisedText.txt\",\"w+\")\n",
    "        f.write(speech)\n",
    "        f.close()\n",
    "        os.startfile(\"RecognisedText.txt\")\n",
    "        playsound(\"data/joanna/hereI.mp3\")\n",
    "    #OPENING YOUTUBE\n",
    "    if \"open youtube\" in recogText:\n",
    "        playsound(\"data/joanna/youtube.mp3\")\n",
    "        webbrowser.open(\"https://www.youtube.com\")\n",
    "    #OPENING SPOTIFY APP (WINDOWS 10 SPECIFIC)\n",
    "    if os.name == \"nt\":\n",
    "        if \"open spotify\" in recogText:\n",
    "            playsound(\"data/joanna/spotify.mp3\")\n",
    "            os.system(\"spotify\")\n",
    "    else:\n",
    "        playsound(\"data/joanna/osN.mp3\")\n",
    "    #PLAYING A SONG ON YOUTUBE\n",
    "    if \"play a song\" in recogText:\n",
    "        playsound(\"data/joanna/songPlay.mp3\")\n",
    "        songName = recordSpeech(True)+\" youtube\"\n",
    "        for x in search(songName,tld=\"co.in\",num=1,stop=1,pause=2):\n",
    "            webbrowser.open(x)\n",
    "        playsound(\"data/joanna/hereI.mp3\")\n",
    "    #SEARCHING GOOGLE\n",
    "    if \"google\" in recogText or \"search\" in recogText:\n",
    "        playsound(\"data/joanna/google.mp3\")\n",
    "        search = recordSpeech(True)\n",
    "        webbrowser.open(\"https://www.google.com/search?q=\"+search.replace(\" \",\"+\"))\n",
    "        playsound(\"data/joanna/hereI.mp3\")\n",
    "    if \"wish\" in recogText:\n",
    "        global entry\n",
    "        global submit\n",
    "        global festival\n",
    "        playsound(\"data/joanna/festival.mp3\")\n",
    "        festival = recordSpeech(True)\n",
    "        entry.place(relx=0,rely=0.9,anchor=NW)\n",
    "        submit.place(relx=1,rely=0.9,anchor=NE)\n",
    "        submit[\"command\"] = contactGetData\n",
    "        playsound(\"data/joanna/festivalMid.mp3\")"
   ]
  },
  {
   "cell_type": "code",
   "execution_count": 48,
   "metadata": {},
   "outputs": [],
   "source": [
    "def contactGetData():\n",
    "    global entry\n",
    "    global submit\n",
    "    global entryVar\n",
    "    global contact\n",
    "    global window\n",
    "    temp = entry.get()\n",
    "    contact = temp.split(\",\")\n",
    "    entryVar.set(\"\")\n",
    "    print(contact)\n",
    "    entry.destroy()\n",
    "    submit.destroy()\n",
    "    window.update()\n",
    "    sendMessage()\n",
    "    playsound(\"data/joanna/festivalEnd.mp3\")\n",
    "    "
   ]
  },
  {
   "cell_type": "code",
   "execution_count": 1,
   "metadata": {},
   "outputs": [],
   "source": [
    "def sendMessage():\n",
    "    global contact\n",
    "    global festival\n",
    "    options = webdriver.ChromeOptions()\n",
    "    options.add_argument(r'user-data-dir=./driver/data')\n",
    "    chromeDriver = webdriver.Chrome(executable_path=r'data/chromedriver.exe', options=options)\n",
    "\n",
    "    chromeDriver.get('https://images.google.com')\n",
    "\n",
    "\n",
    "    search = chromeDriver.find_element_by_name('q')\n",
    "    search.send_keys(festival+ Keys.ENTER)\n",
    "    elem1 = chromeDriver.find_element_by_id('islmp')\n",
    "    sub = elem1.find_elements_by_tag_name('img')\n",
    "    rN = random.randint(0,20)\n",
    "    imgLink = sub[rN].get_attribute('src')\n",
    "    urllib.request.urlretrieve(imgLink, \"data/images/temp.jpg\")\n",
    "\n",
    "    wait = WebDriverWait(chromeDriver,600)\n",
    "    chromeDriver.get('https://web.whatsapp.com/')\n",
    "    for userName in contact:\n",
    "        searchXPath = '//*[@id=\"side\"]/div[1]/div/label/div/div[2]'\n",
    "        search = wait.until(EC.element_to_be_clickable((By.XPATH,searchXPath)))\n",
    "        search.send_keys(userName)\n",
    "        userXPath = f'//span[@title=\"{userName}\"]'\n",
    "        user = wait.until(EC.element_to_be_clickable((By.XPATH,userXPath)))\n",
    "        time.sleep(2)\n",
    "        user.click()\n",
    "        chromeDriver.find_element_by_css_selector(\"span[data-icon='clip']\").click();\n",
    "        chromeDriver.find_element_by_css_selector(\"input[type='file']\").send_keys(os.getcwd()+\"\\\\data\\\\images\\\\temp.jpg\");\n",
    "        wait.until(EC.presence_of_element_located((By.CSS_SELECTOR,\"span[data-icon='send']\"))).click()\n",
    "        inputXPath = '//*[@id=\"main\"]/footer/div[1]/div[2]/div/div[2]'\n",
    "        inputBox = wait.until(EC.element_to_be_clickable((By.XPATH,inputXPath)))\n",
    "        inputBox.send_keys(festival+Keys.ENTER)\n"
   ]
  },
  {
   "cell_type": "code",
   "execution_count": 50,
   "metadata": {},
   "outputs": [
    {
     "name": "stdout",
     "output_type": "stream",
     "text": [
      "['Momsy', 'Anjali', 'Bot']\n"
     ]
    }
   ],
   "source": [
    "#APPLICATION WINDOW FOR THE SOFTWARE\n",
    "window = Tk()\n",
    "window.geometry(\"300x300\")\n",
    "iconImage = PhotoImage(file=\"data/images/icon.png\",master=window)\n",
    "pButton = Button(window,image=iconImage,relief=RIDGE,bd=0)\n",
    "pButton.place(relx=0.5,rely=0.5,anchor=CENTER)\n",
    "pButton[\"command\"] = lambda : recordSpeech()\n",
    "entryVar = StringVar()\n",
    "entry = Entry(window,justify=CENTER,textvariable=entryVar,font=(\"Calibri\",15))\n",
    "submit = Button(window,text=\"SUBMIT\")\n",
    "window.mainloop()"
   ]
  },
  {
   "cell_type": "code",
   "execution_count": null,
   "metadata": {},
   "outputs": [],
   "source": []
  }
 ],
 "metadata": {
  "kernelspec": {
   "display_name": "Python 3",
   "language": "python",
   "name": "python3"
  },
  "language_info": {
   "codemirror_mode": {
    "name": "ipython",
    "version": 3
   },
   "file_extension": ".py",
   "mimetype": "text/x-python",
   "name": "python",
   "nbconvert_exporter": "python",
   "pygments_lexer": "ipython3",
   "version": "3.8.3"
  }
 },
 "nbformat": 4,
 "nbformat_minor": 4
}
